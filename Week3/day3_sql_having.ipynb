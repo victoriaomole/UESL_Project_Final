{
 "cells": [
  {
   "cell_type": "code",
   "execution_count": 2,
   "id": "eedcba24",
   "metadata": {},
   "outputs": [
    {
     "name": "stdout",
     "output_type": "stream",
     "text": [
      "🎓 All Students:\n",
      "   id      name    department  score\n",
      "0   1  Victoria  Data Science     95\n",
      "1   2    Daniel  Data Science     88\n",
      "2   3    Mariam       Finance     72\n",
      "3   4     James            HR     81\n",
      "4   5      John       Finance     90\n",
      "5   6  Victoria  Data Science     95\n",
      "6   7    Daniel  Data Science     88\n",
      "7   8    Mariam       Finance     72\n",
      "8   9     James            HR     81\n",
      "9  10      John       Finance     90\n",
      "\n",
      "📊 Departments with Average Score > 85:\n",
      "     department  total_students  avg_score\n",
      "0  Data Science               4       91.5\n"
     ]
    }
   ],
   "source": [
    "# 🟦 Week 3 — Day 3: SQL HAVING Clause\n",
    "import sqlite3\n",
    "import pandas as pd\n",
    "\n",
    "conn = sqlite3.connect(\"day3_week3_students.db\")\n",
    "cursor = conn.cursor()\n",
    "\n",
    "cursor.execute(\"\"\"\n",
    "CREATE TABLE IF NOT EXISTS students (\n",
    "    id INTEGER PRIMARY KEY AUTOINCREMENT,\n",
    "    name TEXT,\n",
    "    department TEXT,\n",
    "    score INTEGER\n",
    ");\n",
    "\"\"\")\n",
    "\n",
    "# Insert sample data\n",
    "cursor.executemany(\"INSERT INTO students (name, department, score) VALUES (?, ?, ?)\", [\n",
    "    (\"Victoria\", \"Data Science\", 95),\n",
    "    (\"Daniel\", \"Data Science\", 88),\n",
    "    (\"Mariam\", \"Finance\", 72),\n",
    "    (\"James\", \"HR\", 81),\n",
    "    (\"John\", \"Finance\", 90)\n",
    "])\n",
    "conn.commit()\n",
    "\n",
    "print(\"🎓 All Students:\")\n",
    "print(pd.read_sql_query(\"SELECT * FROM students;\", conn))\n",
    "\n",
    "# Group and filter departments with average score > 85\n",
    "query = \"\"\"\n",
    "SELECT department, COUNT(*) AS total_students, AVG(score) AS avg_score\n",
    "FROM students\n",
    "GROUP BY department\n",
    "HAVING AVG(score) > 85;\n",
    "\"\"\"\n",
    "print(\"\\n📊 Departments with Average Score > 85:\")\n",
    "print(pd.read_sql_query(query, conn))\n",
    "\n",
    "conn.close()\n"
   ]
  }
 ],
 "metadata": {
  "kernelspec": {
   "display_name": "Python 3",
   "language": "python",
   "name": "python3"
  },
  "language_info": {
   "codemirror_mode": {
    "name": "ipython",
    "version": 3
   },
   "file_extension": ".py",
   "mimetype": "text/x-python",
   "name": "python",
   "nbconvert_exporter": "python",
   "pygments_lexer": "ipython3",
   "version": "3.12.5"
  }
 },
 "nbformat": 4,
 "nbformat_minor": 5
}
