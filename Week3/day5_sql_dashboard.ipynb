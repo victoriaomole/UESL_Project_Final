{
 "cells": [
  {
   "cell_type": "code",
   "execution_count": 1,
   "id": "df1db850",
   "metadata": {},
   "outputs": [
    {
     "name": "stdout",
     "output_type": "stream",
     "text": [
      "🎓 All Students Joined with Departments:\n",
      "       name department_name  score\n",
      "0  Victoria            Data     95\n",
      "1    Daniel            Data     88\n",
      "2    Mariam         Finance     72\n",
      "3     James              HR     81\n",
      "4      John         Finance     90\n",
      "\n",
      "🏢 Department Average Scores:\n",
      "  department_name  avg_score\n",
      "0            Data       91.5\n",
      "1         Finance       81.0\n",
      "2              HR       81.0\n"
     ]
    }
   ],
   "source": [
    "# 🟦 Week 3 — Day 5: SQL Dashboard Summary\n",
    "import sqlite3\n",
    "import pandas as pd\n",
    "\n",
    "conn = sqlite3.connect(\"day5_week3_dashboard.db\")\n",
    "cursor = conn.cursor()\n",
    "\n",
    "# Create tables\n",
    "cursor.execute(\"\"\"\n",
    "CREATE TABLE IF NOT EXISTS departments (\n",
    "    id INTEGER PRIMARY KEY AUTOINCREMENT,\n",
    "    department_name TEXT\n",
    ");\n",
    "\"\"\")\n",
    "\n",
    "cursor.execute(\"\"\"\n",
    "CREATE TABLE IF NOT EXISTS students (\n",
    "    id INTEGER PRIMARY KEY AUTOINCREMENT,\n",
    "    name TEXT,\n",
    "    department_id INTEGER,\n",
    "    score INTEGER,\n",
    "    FOREIGN KEY(department_id) REFERENCES departments(id)\n",
    ");\n",
    "\"\"\")\n",
    "\n",
    "# Insert department data\n",
    "cursor.executemany(\"INSERT INTO departments (id, department_name) VALUES (?, ?)\", [\n",
    "    (1, \"Data\"),\n",
    "    (2, \"Finance\"),\n",
    "    (3, \"HR\")\n",
    "])\n",
    "\n",
    "# Insert students\n",
    "cursor.executemany(\"INSERT INTO students (name, department_id, score) VALUES (?, ?, ?)\", [\n",
    "    (\"Victoria\", 1, 95),\n",
    "    (\"Daniel\", 1, 88),\n",
    "    (\"Mariam\", 2, 72),\n",
    "    (\"James\", 3, 81),\n",
    "    (\"John\", 2, 90)\n",
    "])\n",
    "conn.commit()\n",
    "\n",
    "print(\"🎓 All Students Joined with Departments:\")\n",
    "query = \"\"\"\n",
    "SELECT s.name, d.department_name, s.score\n",
    "FROM students s\n",
    "JOIN departments d\n",
    "ON s.department_id = d.id;\n",
    "\"\"\"\n",
    "print(pd.read_sql_query(query, conn))\n",
    "\n",
    "# Departmental average\n",
    "print(\"\\n🏢 Department Average Scores:\")\n",
    "query2 = \"\"\"\n",
    "SELECT d.department_name, AVG(s.score) AS avg_score\n",
    "FROM students s\n",
    "JOIN departments d\n",
    "ON s.department_id = d.id\n",
    "GROUP BY d.department_name;\n",
    "\"\"\"\n",
    "print(pd.read_sql_query(query2, conn))\n",
    "\n",
    "conn.close()\n"
   ]
  }
 ],
 "metadata": {
  "kernelspec": {
   "display_name": "Python 3",
   "language": "python",
   "name": "python3"
  },
  "language_info": {
   "codemirror_mode": {
    "name": "ipython",
    "version": 3
   },
   "file_extension": ".py",
   "mimetype": "text/x-python",
   "name": "python",
   "nbconvert_exporter": "python",
   "pygments_lexer": "ipython3",
   "version": "3.12.5"
  }
 },
 "nbformat": 4,
 "nbformat_minor": 5
}
