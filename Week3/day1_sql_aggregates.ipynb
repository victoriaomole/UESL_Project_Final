{
 "cells": [
  {
   "cell_type": "code",
   "execution_count": 1,
   "id": "7dab1271",
   "metadata": {},
   "outputs": [
    {
     "name": "stdout",
     "output_type": "stream",
     "text": [
      "🎓 All Students:\n",
      "   id      name  score\n",
      "0   1  Victoria     95\n",
      "1   2    Daniel     88\n",
      "2   3    Mariam     72\n",
      "3   4     James     81\n",
      "4   5      John     90\n",
      "\n",
      "📊 Aggregate Results:\n",
      "   total_students  average_score  highest_score\n",
      "0               5           85.2             95\n"
     ]
    }
   ],
   "source": [
    "# 🟦 Week 3 — Day 1: SQL Aggregates\n",
    "import sqlite3\n",
    "import pandas as pd\n",
    "\n",
    "conn = sqlite3.connect(\"day1_week3_students.db\")\n",
    "cursor = conn.cursor()\n",
    "\n",
    "cursor.execute(\"\"\"\n",
    "CREATE TABLE IF NOT EXISTS students (\n",
    "    id INTEGER PRIMARY KEY AUTOINCREMENT,\n",
    "    name TEXT,\n",
    "    score INTEGER\n",
    ");\n",
    "\"\"\")\n",
    "\n",
    "# Insert sample data\n",
    "cursor.executemany(\"INSERT INTO students (name, score) VALUES (?, ?)\", [\n",
    "    (\"Victoria\", 95),\n",
    "    (\"Daniel\", 88),\n",
    "    (\"Mariam\", 72),\n",
    "    (\"James\", 81),\n",
    "    (\"John\", 90)\n",
    "])\n",
    "conn.commit()\n",
    "\n",
    "print(\"🎓 All Students:\")\n",
    "print(pd.read_sql_query(\"SELECT * FROM students;\", conn))\n",
    "\n",
    "# Use aggregate functions\n",
    "print(\"\\n📊 Aggregate Results:\")\n",
    "query = \"\"\"\n",
    "SELECT \n",
    "    COUNT(*) AS total_students,\n",
    "    AVG(score) AS average_score,\n",
    "    MAX(score) AS highest_score\n",
    "FROM students;\n",
    "\"\"\"\n",
    "print(pd.read_sql_query(query, conn))\n",
    "\n",
    "conn.close()\n",
    "\n"
   ]
  }
 ],
 "metadata": {
  "kernelspec": {
   "display_name": "Python 3",
   "language": "python",
   "name": "python3"
  },
  "language_info": {
   "codemirror_mode": {
    "name": "ipython",
    "version": 3
   },
   "file_extension": ".py",
   "mimetype": "text/x-python",
   "name": "python",
   "nbconvert_exporter": "python",
   "pygments_lexer": "ipython3",
   "version": "3.12.5"
  }
 },
 "nbformat": 4,
 "nbformat_minor": 5
}
