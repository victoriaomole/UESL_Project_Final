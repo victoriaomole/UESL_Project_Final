{
 "cells": [
  {
   "cell_type": "code",
   "execution_count": 1,
   "id": "5d1d314d",
   "metadata": {},
   "outputs": [
    {
     "name": "stdout",
     "output_type": "stream",
     "text": [
      "🎓 Students Table:\n",
      "   StudentID      Name  DepartmentID\n",
      "0          1  Victoria           101\n",
      "1          2    Daniel           101\n",
      "2          3    Mariam           102\n",
      "3          4     James           103\n",
      "\n",
      "🏢 Departments Table:\n",
      "   DepartmentID DepartmentName\n",
      "0           101   Data Science\n",
      "1           102        Finance\n",
      "2           103             HR\n",
      "\n",
      "📊 Merged Table:\n",
      "   StudentID      Name  DepartmentID DepartmentName\n",
      "0          1  Victoria           101   Data Science\n",
      "1          2    Daniel           101   Data Science\n",
      "2          3    Mariam           102        Finance\n",
      "3          4     James           103             HR\n"
     ]
    }
   ],
   "source": [
    "# 🟩 Week 3 — Day 3: Merging DataFrames\n",
    "import pandas as pd\n",
    "\n",
    "# Students table\n",
    "students = pd.DataFrame({\n",
    "    \"StudentID\": [1, 2, 3, 4],\n",
    "    \"Name\": [\"Victoria\", \"Daniel\", \"Mariam\", \"James\"],\n",
    "    \"DepartmentID\": [101, 101, 102, 103]\n",
    "})\n",
    "\n",
    "# Departments table\n",
    "departments = pd.DataFrame({\n",
    "    \"DepartmentID\": [101, 102, 103],\n",
    "    \"DepartmentName\": [\"Data Science\", \"Finance\", \"HR\"]\n",
    "})\n",
    "\n",
    "print(\"🎓 Students Table:\")\n",
    "print(students)\n",
    "print(\"\\n🏢 Departments Table:\")\n",
    "print(departments)\n",
    "\n",
    "# Merge DataFrames on DepartmentID\n",
    "merged = pd.merge(students, departments, on=\"DepartmentID\", how=\"inner\")\n",
    "print(\"\\n📊 Merged Table:\")\n",
    "print(merged)\n"
   ]
  }
 ],
 "metadata": {
  "kernelspec": {
   "display_name": "Python 3",
   "language": "python",
   "name": "python3"
  },
  "language_info": {
   "codemirror_mode": {
    "name": "ipython",
    "version": 3
   },
   "file_extension": ".py",
   "mimetype": "text/x-python",
   "name": "python",
   "nbconvert_exporter": "python",
   "pygments_lexer": "ipython3",
   "version": "3.12.5"
  }
 },
 "nbformat": 4,
 "nbformat_minor": 5
}
