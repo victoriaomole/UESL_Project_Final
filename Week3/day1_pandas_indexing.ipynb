{
 "cells": [
  {
   "cell_type": "code",
   "execution_count": 1,
   "id": "93048ef7",
   "metadata": {},
   "outputs": [
    {
     "name": "stdout",
     "output_type": "stream",
     "text": [
      "🎓 UESL Students:\n",
      "       Name  Score\n",
      "0  Victoria     95\n",
      "1    Daniel     88\n",
      "2    Mariam     72\n",
      "3     James     81\n",
      "4      John     90\n",
      "\n",
      "First row:\n",
      "Name     Victoria\n",
      "Score          95\n",
      "Name: 0, dtype: object\n",
      "\n",
      "Name and Score of first 3 students:\n",
      "       Name  Score\n",
      "0  Victoria     95\n",
      "1    Daniel     88\n",
      "2    Mariam     72\n",
      "\n",
      "Students with Score > 85:\n",
      "       Name  Score\n",
      "0  Victoria     95\n",
      "1    Daniel     88\n",
      "4      John     90\n"
     ]
    }
   ],
   "source": [
    "# 🟩 Week 3 — Day 1: Pandas Indexing\n",
    "import pandas as pd\n",
    "\n",
    "# Create DataFrame\n",
    "df = pd.DataFrame({\n",
    "    \"Name\": [\"Victoria\", \"Daniel\", \"Mariam\", \"James\", \"John\"],\n",
    "    \"Score\": [95, 88, 72, 81, 90]\n",
    "})\n",
    "\n",
    "print(\"🎓 UESL Students:\")\n",
    "print(df)\n",
    "\n",
    "# Indexing: Select first row\n",
    "print(\"\\nFirst row:\")\n",
    "print(df.iloc[0])\n",
    "\n",
    "# Indexing: Select specific columns\n",
    "print(\"\\nName and Score of first 3 students:\")\n",
    "print(df.loc[0:2, [\"Name\", \"Score\"]])\n",
    "\n",
    "# Indexing by condition\n",
    "print(\"\\nStudents with Score > 85:\")\n",
    "print(df[df[\"Score\"] > 85])\n",
    "\n"
   ]
  }
 ],
 "metadata": {
  "kernelspec": {
   "display_name": "Python 3",
   "language": "python",
   "name": "python3"
  },
  "language_info": {
   "codemirror_mode": {
    "name": "ipython",
    "version": 3
   },
   "file_extension": ".py",
   "mimetype": "text/x-python",
   "name": "python",
   "nbconvert_exporter": "python",
   "pygments_lexer": "ipython3",
   "version": "3.12.5"
  }
 },
 "nbformat": 4,
 "nbformat_minor": 5
}
