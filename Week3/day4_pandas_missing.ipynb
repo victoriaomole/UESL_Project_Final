{
 "cells": [
  {
   "cell_type": "code",
   "execution_count": 1,
   "id": "b1f2c837",
   "metadata": {},
   "outputs": [
    {
     "name": "stdout",
     "output_type": "stream",
     "text": [
      "🎓 Original DataFrame (with missing values):\n",
      "       Name  Score Department\n",
      "0  Victoria   95.0       Data\n",
      "1    Daniel    NaN       Data\n",
      "2    Mariam   72.0    Finance\n",
      "3     James   81.0         HR\n",
      "4      John    NaN       None\n",
      "\n",
      "🔍 Missing value summary:\n",
      "Name          0\n",
      "Score         2\n",
      "Department    1\n",
      "dtype: int64\n",
      "\n",
      "✅ Cleaned DataFrame (after filling missing values):\n",
      "       Name      Score Department\n",
      "0  Victoria  95.000000       Data\n",
      "1    Daniel  82.666667       Data\n",
      "2    Mariam  72.000000    Finance\n",
      "3     James  81.000000         HR\n",
      "4      John  82.666667    Unknown\n"
     ]
    },
    {
     "name": "stderr",
     "output_type": "stream",
     "text": [
      "C:\\Users\\victo\\AppData\\Local\\Temp\\ipykernel_19552\\706583991.py:21: FutureWarning: A value is trying to be set on a copy of a DataFrame or Series through chained assignment using an inplace method.\n",
      "The behavior will change in pandas 3.0. This inplace method will never work because the intermediate object on which we are setting values always behaves as a copy.\n",
      "\n",
      "For example, when doing 'df[col].method(value, inplace=True)', try using 'df.method({col: value}, inplace=True)' or df[col] = df[col].method(value) instead, to perform the operation inplace on the original object.\n",
      "\n",
      "\n",
      "  df[\"Score\"].fillna(df[\"Score\"].mean(), inplace=True)\n",
      "C:\\Users\\victo\\AppData\\Local\\Temp\\ipykernel_19552\\706583991.py:24: FutureWarning: A value is trying to be set on a copy of a DataFrame or Series through chained assignment using an inplace method.\n",
      "The behavior will change in pandas 3.0. This inplace method will never work because the intermediate object on which we are setting values always behaves as a copy.\n",
      "\n",
      "For example, when doing 'df[col].method(value, inplace=True)', try using 'df.method({col: value}, inplace=True)' or df[col] = df[col].method(value) instead, to perform the operation inplace on the original object.\n",
      "\n",
      "\n",
      "  df[\"Department\"].fillna(\"Unknown\", inplace=True)\n"
     ]
    }
   ],
   "source": [
    "# 🟩 Week 3 — Day 4: Handling Missing Values\n",
    "import pandas as pd\n",
    "import numpy as np\n",
    "\n",
    "data = {\n",
    "    \"Name\": [\"Victoria\", \"Daniel\", \"Mariam\", \"James\", \"John\"],\n",
    "    \"Score\": [95, np.nan, 72, 81, None],\n",
    "    \"Department\": [\"Data\", \"Data\", \"Finance\", \"HR\", None]\n",
    "}\n",
    "\n",
    "df = pd.DataFrame(data)\n",
    "\n",
    "print(\"🎓 Original DataFrame (with missing values):\")\n",
    "print(df)\n",
    "\n",
    "# Check for missing values\n",
    "print(\"\\n🔍 Missing value summary:\")\n",
    "print(df.isnull().sum())\n",
    "\n",
    "# Fill missing numeric values with mean\n",
    "df[\"Score\"].fillna(df[\"Score\"].mean(), inplace=True)\n",
    "\n",
    "# Fill missing text values with placeholder\n",
    "df[\"Department\"].fillna(\"Unknown\", inplace=True)\n",
    "\n",
    "print(\"\\n✅ Cleaned DataFrame (after filling missing values):\")\n",
    "print(df)\n"
   ]
  }
 ],
 "metadata": {
  "kernelspec": {
   "display_name": "Python 3",
   "language": "python",
   "name": "python3"
  },
  "language_info": {
   "codemirror_mode": {
    "name": "ipython",
    "version": 3
   },
   "file_extension": ".py",
   "mimetype": "text/x-python",
   "name": "python",
   "nbconvert_exporter": "python",
   "pygments_lexer": "ipython3",
   "version": "3.12.5"
  }
 },
 "nbformat": 4,
 "nbformat_minor": 5
}
