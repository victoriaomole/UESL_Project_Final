{
 "cells": [
  {
   "cell_type": "code",
   "execution_count": 1,
   "id": "facba075",
   "metadata": {},
   "outputs": [
    {
     "name": "stdout",
     "output_type": "stream",
     "text": [
      "🎓 All Students:\n",
      "   id      name    department  score\n",
      "0   1  Victoria  Data Science     95\n",
      "1   2    Daniel  Data Science     88\n",
      "2   3    Mariam       Finance     72\n",
      "3   4     James            HR     81\n",
      "4   5      John       Finance     90\n",
      "\n",
      "📊 Students Above Average Score:\n",
      "       name    department  score\n",
      "0  Victoria  Data Science     95\n",
      "1    Daniel  Data Science     88\n",
      "2      John       Finance     90\n"
     ]
    }
   ],
   "source": [
    "# 🟦 Week 3 — Day 4: SQL Subqueries\n",
    "import sqlite3\n",
    "import pandas as pd\n",
    "\n",
    "conn = sqlite3.connect(\"day4_week3_students.db\")\n",
    "cursor = conn.cursor()\n",
    "\n",
    "cursor.execute(\"\"\"\n",
    "CREATE TABLE IF NOT EXISTS students (\n",
    "    id INTEGER PRIMARY KEY AUTOINCREMENT,\n",
    "    name TEXT,\n",
    "    department TEXT,\n",
    "    score INTEGER\n",
    ");\n",
    "\"\"\")\n",
    "\n",
    "# Insert sample data\n",
    "cursor.executemany(\"INSERT INTO students (name, department, score) VALUES (?, ?, ?)\", [\n",
    "    (\"Victoria\", \"Data Science\", 95),\n",
    "    (\"Daniel\", \"Data Science\", 88),\n",
    "    (\"Mariam\", \"Finance\", 72),\n",
    "    (\"James\", \"HR\", 81),\n",
    "    (\"John\", \"Finance\", 90)\n",
    "])\n",
    "conn.commit()\n",
    "\n",
    "print(\"🎓 All Students:\")\n",
    "print(pd.read_sql_query(\"SELECT * FROM students;\", conn))\n",
    "\n",
    "# Subquery: Find students with above-average score\n",
    "query = \"\"\"\n",
    "SELECT name, department, score\n",
    "FROM students\n",
    "WHERE score > (SELECT AVG(score) FROM students);\n",
    "\"\"\"\n",
    "print(\"\\n📊 Students Above Average Score:\")\n",
    "print(pd.read_sql_query(query, conn))\n",
    "\n",
    "conn.close()\n",
    "\n"
   ]
  }
 ],
 "metadata": {
  "kernelspec": {
   "display_name": "Python 3",
   "language": "python",
   "name": "python3"
  },
  "language_info": {
   "codemirror_mode": {
    "name": "ipython",
    "version": 3
   },
   "file_extension": ".py",
   "mimetype": "text/x-python",
   "name": "python",
   "nbconvert_exporter": "python",
   "pygments_lexer": "ipython3",
   "version": "3.12.5"
  }
 },
 "nbformat": 4,
 "nbformat_minor": 5
}
