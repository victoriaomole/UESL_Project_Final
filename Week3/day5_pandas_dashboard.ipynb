{
 "cells": [
  {
   "cell_type": "code",
   "execution_count": 1,
   "id": "6cf8854c",
   "metadata": {},
   "outputs": [
    {
     "name": "stdout",
     "output_type": "stream",
     "text": [
      "🎓 UESL Score Data:\n",
      "       Name Department  Score\n",
      "0  Victoria       Data     95\n",
      "1    Daniel       Data     88\n",
      "2    Mariam    Finance     72\n",
      "3     James         HR     81\n",
      "4      John    Finance     90\n",
      "\n",
      "📊 Dashboard Summary:\n",
      "Average Score: 85.20\n",
      "Top Scorer: Victoria (95)\n",
      "\n",
      "🏢 Average Score by Department:\n",
      "  Department  Score\n",
      "0       Data   91.5\n",
      "1    Finance   81.0\n",
      "2         HR   81.0\n",
      "\n",
      "✅ Data exported as uesl_dashboard_data.csv\n"
     ]
    }
   ],
   "source": [
    "# 🟩 Week 3 — Day 5: Pandas Dashboard Analysis\n",
    "import pandas as pd\n",
    "\n",
    "# Create dataset\n",
    "data = {\n",
    "    \"Name\": [\"Victoria\", \"Daniel\", \"Mariam\", \"James\", \"John\"],\n",
    "    \"Department\": [\"Data\", \"Data\", \"Finance\", \"HR\", \"Finance\"],\n",
    "    \"Score\": [95, 88, 72, 81, 90]\n",
    "}\n",
    "df = pd.DataFrame(data)\n",
    "\n",
    "print(\"🎓 UESL Score Data:\")\n",
    "print(df)\n",
    "\n",
    "# Calculate key metrics\n",
    "avg_score = df[\"Score\"].mean()\n",
    "top_scorer = df.loc[df[\"Score\"].idxmax()]\n",
    "\n",
    "print(\"\\n📊 Dashboard Summary:\")\n",
    "print(f\"Average Score: {avg_score:.2f}\")\n",
    "print(f\"Top Scorer: {top_scorer['Name']} ({top_scorer['Score']})\")\n",
    "\n",
    "# Departmental summary\n",
    "summary = df.groupby(\"Department\")[\"Score\"].mean().reset_index()\n",
    "print(\"\\n🏢 Average Score by Department:\")\n",
    "print(summary)\n",
    "\n",
    "# Export to CSV for dashboard\n",
    "df.to_csv(\"uesl_dashboard_data.csv\", index=False)\n",
    "print(\"\\n✅ Data exported as uesl_dashboard_data.csv\")\n"
   ]
  }
 ],
 "metadata": {
  "kernelspec": {
   "display_name": "Python 3",
   "language": "python",
   "name": "python3"
  },
  "language_info": {
   "codemirror_mode": {
    "name": "ipython",
    "version": 3
   },
   "file_extension": ".py",
   "mimetype": "text/x-python",
   "name": "python",
   "nbconvert_exporter": "python",
   "pygments_lexer": "ipython3",
   "version": "3.12.5"
  }
 },
 "nbformat": 4,
 "nbformat_minor": 5
}
