{
 "cells": [
  {
   "cell_type": "code",
   "execution_count": 2,
   "id": "9077b702",
   "metadata": {},
   "outputs": [
    {
     "name": "stdout",
     "output_type": "stream",
     "text": [
      "🎓 Full DataFrame:\n",
      "       Name Department  Score\n",
      "0  Victoria       Data     95\n",
      "1    Daniel         IT     87\n",
      "2    Mariam    Finance     72\n",
      "3     James       Data     81\n",
      "4      John         IT     89\n",
      "5      Mary    Finance     90\n",
      "\n",
      "📋 First 3 rows:\n",
      "       Name Department  Score\n",
      "0  Victoria       Data     95\n",
      "1    Daniel         IT     87\n",
      "2    Mariam    Finance     72\n",
      "\n",
      "📋 Only Name and Score:\n",
      "       Name  Score\n",
      "0  Victoria     95\n",
      "1    Daniel     87\n",
      "2    Mariam     72\n",
      "3     James     81\n",
      "4      John     89\n",
      "5      Mary     90\n",
      "\n",
      "📋 Students with Score > 85:\n",
      "       Name Department  Score\n",
      "0  Victoria       Data     95\n",
      "1    Daniel         IT     87\n",
      "4      John         IT     89\n",
      "5      Mary    Finance     90\n"
     ]
    }
   ],
   "source": [
    "# 🟩 Week 3 — Day 2: Pandas Slicing\n",
    "import pandas as pd\n",
    "\n",
    "# Create DataFrame\n",
    "data = {\n",
    "    \"Name\": [\"Victoria\", \"Daniel\", \"Mariam\", \"James\", \"John\", \"Mary\"],\n",
    "    \"Department\": [\"Data\", \"IT\", \"Finance\", \"Data\", \"IT\", \"Finance\"],\n",
    "    \"Score\": [95, 87, 72, 81, 89, 90]\n",
    "}\n",
    "df = pd.DataFrame(data)\n",
    "\n",
    "print(\"🎓 Full DataFrame:\")\n",
    "print(df)\n",
    "\n",
    "# Slice first 3 rows\n",
    "print(\"\\n📋 First 3 rows:\")\n",
    "print(df[:3])\n",
    "\n",
    "# Slice columns by name\n",
    "print(\"\\n📋 Only Name and Score:\")\n",
    "print(df[[\"Name\", \"Score\"]])\n",
    "\n",
    "# Slice by condition\n",
    "print(\"\\n📋 Students with Score > 85:\")\n",
    "print(df[df[\"Score\"] > 85])\n",
    "\n"
   ]
  }
 ],
 "metadata": {
  "kernelspec": {
   "display_name": "Python 3",
   "language": "python",
   "name": "python3"
  },
  "language_info": {
   "codemirror_mode": {
    "name": "ipython",
    "version": 3
   },
   "file_extension": ".py",
   "mimetype": "text/x-python",
   "name": "python",
   "nbconvert_exporter": "python",
   "pygments_lexer": "ipython3",
   "version": "3.12.5"
  }
 },
 "nbformat": 4,
 "nbformat_minor": 5
}
