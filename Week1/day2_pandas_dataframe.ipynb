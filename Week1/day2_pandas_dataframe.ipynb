{
 "cells": [
  {
   "cell_type": "code",
   "execution_count": 1,
   "id": "608f999a",
   "metadata": {},
   "outputs": [
    {
     "name": "stdout",
     "output_type": "stream",
     "text": [
      "🎓 UESL Students DataFrame:\n",
      "       Name  Score Department\n",
      "0  Victoria     95       Data\n",
      "1     James     88         IT\n",
      "2     Grace     76         HR\n",
      "3      John     82    Finance\n",
      "\n",
      "🏆 Top Students:\n",
      "       Name  Score Department\n",
      "0  Victoria     95       Data\n",
      "1     James     88         IT\n",
      "3      John     82    Finance\n"
     ]
    }
   ],
   "source": [
    "# 🧠 Day 2 – Pandas DataFrame\n",
    "import pandas as pd\n",
    "\n",
    "# Create a DataFrame from a dictionary\n",
    "data = {\n",
    "    \"Name\": [\"Victoria\", \"James\", \"Grace\", \"John\"],\n",
    "    \"Score\": [95, 88, 76, 82],\n",
    "    \"Department\": [\"Data\", \"IT\", \"HR\", \"Finance\"]\n",
    "}\n",
    "\n",
    "df = pd.DataFrame(data)\n",
    "print(\"🎓 UESL Students DataFrame:\")\n",
    "print(df)\n",
    "\n",
    "# Practice filter: students with Score > 80\n",
    "print(\"\\n🏆 Top Students:\")\n",
    "print(df[df[\"Score\"] > 80])\n"
   ]
  }
 ],
 "metadata": {
  "kernelspec": {
   "display_name": "Python 3",
   "language": "python",
   "name": "python3"
  },
  "language_info": {
   "codemirror_mode": {
    "name": "ipython",
    "version": 3
   },
   "file_extension": ".py",
   "mimetype": "text/x-python",
   "name": "python",
   "nbconvert_exporter": "python",
   "pygments_lexer": "ipython3",
   "version": "3.12.5"
  }
 },
 "nbformat": 4,
 "nbformat_minor": 5
}
