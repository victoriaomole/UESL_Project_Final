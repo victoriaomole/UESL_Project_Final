{
 "cells": [
  {
   "cell_type": "code",
   "execution_count": 1,
   "id": "5cd8c916",
   "metadata": {},
   "outputs": [
    {
     "name": "stdout",
     "output_type": "stream",
     "text": [
      "🎓 All Students:\n",
      "   id      name  score\n",
      "0   1  Victoria     95\n",
      "1   2     James     88\n",
      "2   3     Grace     76\n",
      "3   4      John     82\n",
      "\n",
      "🏆 Students with score > 80:\n",
      "   id      name  score\n",
      "0   1  Victoria     95\n",
      "1   2     James     88\n",
      "2   4      John     82\n",
      "\n",
      "📊 Only names and scores:\n",
      "       name  score\n",
      "0  Victoria     95\n",
      "1     James     88\n",
      "2     Grace     76\n",
      "3      John     82\n"
     ]
    }
   ],
   "source": [
    "# 🧠 Day 1 - SQL Basics in Python\n",
    "# Topic: SELECT * FROM students\n",
    "\n",
    "import sqlite3\n",
    "import pandas as pd\n",
    "\n",
    "# Step 1: Connect to a local database (creates file if not exist)\n",
    "conn = sqlite3.connect(\"day1_students.db\")\n",
    "\n",
    "# Step 2: Create a cursor\n",
    "cursor = conn.cursor()\n",
    "\n",
    "# Step 3: Create a table\n",
    "cursor.execute(\"\"\"\n",
    "CREATE TABLE IF NOT EXISTS students (\n",
    "    id INTEGER PRIMARY KEY,\n",
    "    name TEXT,\n",
    "    score INTEGER\n",
    ");\n",
    "\"\"\")\n",
    "\n",
    "# Step 4: Insert sample data\n",
    "cursor.execute(\"DELETE FROM students;\")  # clear table if re-run\n",
    "cursor.executemany(\"INSERT INTO students (id, name, score) VALUES (?, ?, ?)\", [\n",
    "    (1, \"Victoria\", 95),\n",
    "    (2, \"James\", 88),\n",
    "    (3, \"Grace\", 76),\n",
    "    (4, \"John\", 82)\n",
    "])\n",
    "conn.commit()\n",
    "\n",
    "# Step 5: Run SQL queries using Pandas\n",
    "print(\"🎓 All Students:\")\n",
    "df_all = pd.read_sql_query(\"SELECT * FROM students;\", conn)\n",
    "print(df_all)\n",
    "\n",
    "print(\"\\n🏆 Students with score > 80:\")\n",
    "df_top = pd.read_sql_query(\"SELECT * FROM students WHERE score > 80;\", conn)\n",
    "print(df_top)\n",
    "\n",
    "print(\"\\n📊 Only names and scores:\")\n",
    "df_names = pd.read_sql_query(\"SELECT name, score FROM students;\", conn)\n",
    "print(df_names)\n",
    "\n",
    "# Close the connection\n",
    "conn.close()\n"
   ]
  }
 ],
 "metadata": {
  "kernelspec": {
   "display_name": "Python 3",
   "language": "python",
   "name": "python3"
  },
  "language_info": {
   "codemirror_mode": {
    "name": "ipython",
    "version": 3
   },
   "file_extension": ".py",
   "mimetype": "text/x-python",
   "name": "python",
   "nbconvert_exporter": "python",
   "pygments_lexer": "ipython3",
   "version": "3.12.5"
  }
 },
 "nbformat": 4,
 "nbformat_minor": 5
}
