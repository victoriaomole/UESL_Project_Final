{
 "cells": [
  {
   "cell_type": "code",
   "execution_count": 1,
   "id": "ebbfa048",
   "metadata": {},
   "outputs": [
    {
     "name": "stdout",
     "output_type": "stream",
     "text": [
      "🎓 All Students:\n",
      "   id      name  score\n",
      "0   1  Victoria     95\n",
      "1   2     James     88\n",
      "2   3     Grace     76\n",
      "3   4      John     82\n",
      "4   5       Ada     99\n",
      "5   6      Mary     90\n",
      "\n",
      "🏆 Top 3 Students by Score:\n",
      "   id      name  score\n",
      "0   5       Ada     99\n",
      "1   1  Victoria     95\n",
      "2   6      Mary     90\n"
     ]
    }
   ],
   "source": [
    "# 🧠 Day 4 – SQL LIMIT\n",
    "import sqlite3\n",
    "import pandas as pd\n",
    "\n",
    "conn = sqlite3.connect(\"day4_students.db\")\n",
    "cursor = conn.cursor()\n",
    "\n",
    "cursor.execute(\"\"\"\n",
    "CREATE TABLE IF NOT EXISTS students (\n",
    "    id INTEGER PRIMARY KEY,\n",
    "    name TEXT,\n",
    "    score INTEGER\n",
    ");\n",
    "\"\"\")\n",
    "\n",
    "cursor.execute(\"DELETE FROM students;\")\n",
    "cursor.executemany(\"INSERT INTO students (id, name, score) VALUES (?, ?, ?)\", [\n",
    "    (1, \"Victoria\", 95),\n",
    "    (2, \"James\", 88),\n",
    "    (3, \"Grace\", 76),\n",
    "    (4, \"John\", 82),\n",
    "    (5, \"Ada\", 99),\n",
    "    (6, \"Mary\", 90)\n",
    "])\n",
    "conn.commit()\n",
    "\n",
    "# Show all students\n",
    "print(\"🎓 All Students:\")\n",
    "print(pd.read_sql_query(\"SELECT * FROM students;\", conn))\n",
    "\n",
    "# Limit results to Top 3\n",
    "print(\"\\n🏆 Top 3 Students by Score:\")\n",
    "print(pd.read_sql_query(\"SELECT * FROM students ORDER BY score DESC LIMIT 3;\", conn))\n",
    "\n",
    "conn.close()\n"
   ]
  }
 ],
 "metadata": {
  "kernelspec": {
   "display_name": "Python 3",
   "language": "python",
   "name": "python3"
  },
  "language_info": {
   "codemirror_mode": {
    "name": "ipython",
    "version": 3
   },
   "file_extension": ".py",
   "mimetype": "text/x-python",
   "name": "python",
   "nbconvert_exporter": "python",
   "pygments_lexer": "ipython3",
   "version": "3.12.5"
  }
 },
 "nbformat": 4,
 "nbformat_minor": 5
}
