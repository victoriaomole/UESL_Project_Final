{
 "cells": [
  {
   "cell_type": "code",
   "execution_count": 1,
   "id": "0f30b76a",
   "metadata": {},
   "outputs": [
    {
     "name": "stdout",
     "output_type": "stream",
     "text": [
      "🎓 UESL Students DataFrame:\n",
      "       Name  Score Department\n",
      "0  Victoria     95       Data\n",
      "1     James     88         IT\n",
      "2     Grace     76         HR\n",
      "3      John     82    Finance\n",
      "4       Ada     99         AI\n",
      "\n",
      "🏆 Top Performers (Score > 85):\n",
      "       Name  Score Department\n",
      "0  Victoria     95       Data\n",
      "1     James     88         IT\n",
      "4       Ada     99         AI\n",
      "\n",
      "💼 Students in IT or Data:\n",
      "       Name  Score Department\n",
      "0  Victoria     95       Data\n",
      "1     James     88         IT\n"
     ]
    }
   ],
   "source": [
    "# 🧠 Day 3 – Pandas Filtering\n",
    "import pandas as pd\n",
    "\n",
    "data = {\n",
    "  \"Name\": [\"Victoria\", \"James\", \"Grace\", \"John\", \"Ada\"],\n",
    "  \"Score\": [95, 88, 76, 82, 99],\n",
    "  \"Department\": [\"Data\", \"IT\", \"HR\", \"Finance\", \"AI\"]\n",
    "}\n",
    "\n",
    "df = pd.DataFrame(data)\n",
    "print(\"🎓 UESL Students DataFrame:\")\n",
    "print(df)\n",
    "\n",
    "# Filter rows where Score > 85\n",
    "print(\"\\n🏆 Top Performers (Score > 85):\")\n",
    "print(df[df[\"Score\"] > 85])\n",
    "\n",
    "# Filter by Department\n",
    "print(\"\\n💼 Students in IT or Data:\")\n",
    "print(df[df[\"Department\"].isin([\"IT\", \"Data\"])])\n"
   ]
  }
 ],
 "metadata": {
  "kernelspec": {
   "display_name": "Python 3",
   "language": "python",
   "name": "python3"
  },
  "language_info": {
   "codemirror_mode": {
    "name": "ipython",
    "version": 3
   },
   "file_extension": ".py",
   "mimetype": "text/x-python",
   "name": "python",
   "nbconvert_exporter": "python",
   "pygments_lexer": "ipython3",
   "version": "3.12.5"
  }
 },
 "nbformat": 4,
 "nbformat_minor": 5
}
