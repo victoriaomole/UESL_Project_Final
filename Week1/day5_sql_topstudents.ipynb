{
 "cells": [
  {
   "cell_type": "code",
   "execution_count": 1,
   "id": "32658152",
   "metadata": {},
   "outputs": [
    {
     "name": "stdout",
     "output_type": "stream",
     "text": [
      "🎓 Students with Score > 80 (Ordered by Score):\n",
      "   id      name  score department\n",
      "0   5       Ada     99         AI\n",
      "1   1  Victoria     95       Data\n",
      "2   2     James     88         IT\n",
      "3   4      John     82    Finance\n"
     ]
    }
   ],
   "source": [
    "# 🧠 Day 5 – SQL Mini Project (WHERE + ORDER BY)\n",
    "import sqlite3\n",
    "import pandas as pd\n",
    "\n",
    "conn = sqlite3.connect(\"day5_students.db\")\n",
    "cursor = conn.cursor()\n",
    "\n",
    "cursor.execute(\"\"\"\n",
    "CREATE TABLE IF NOT EXISTS students (\n",
    "  id INTEGER PRIMARY KEY,\n",
    "  name TEXT,\n",
    "  score INTEGER,\n",
    "  department TEXT\n",
    ");\n",
    "\"\"\")\n",
    "\n",
    "cursor.execute(\"DELETE FROM students;\")\n",
    "cursor.executemany(\"INSERT INTO students (id, name, score, department) VALUES (?, ?, ?, ?)\", [\n",
    "  (1, \"Victoria\", 95, \"Data\"),\n",
    "  (2, \"James\", 88, \"IT\"),\n",
    "  (3, \"Grace\", 76, \"HR\"),\n",
    "  (4, \"John\", 82, \"Finance\"),\n",
    "  (5, \"Ada\", 99, \"AI\")\n",
    "])\n",
    "conn.commit()\n",
    "\n",
    "print(\"🎓 Students with Score > 80 (Ordered by Score):\")\n",
    "df = pd.read_sql_query(\"\"\"\n",
    "  SELECT * FROM students\n",
    "  WHERE score > 80\n",
    "  ORDER BY score DESC;\n",
    "\"\"\", conn)\n",
    "print(df)\n",
    "\n",
    "conn.close()\n"
   ]
  }
 ],
 "metadata": {
  "kernelspec": {
   "display_name": "Python 3",
   "language": "python",
   "name": "python3"
  },
  "language_info": {
   "codemirror_mode": {
    "name": "ipython",
    "version": 3
   },
   "file_extension": ".py",
   "mimetype": "text/x-python",
   "name": "python",
   "nbconvert_exporter": "python",
   "pygments_lexer": "ipython3",
   "version": "3.12.5"
  }
 },
 "nbformat": 4,
 "nbformat_minor": 5
}
