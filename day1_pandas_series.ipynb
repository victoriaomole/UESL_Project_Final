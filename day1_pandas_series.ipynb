{
 "cells": [
  {
   "cell_type": "code",
   "execution_count": 3,
   "id": "7768a8f8",
   "metadata": {},
   "outputs": [
    {
     "name": "stdout",
     "output_type": "stream",
     "text": [
      "UESL Scores:\n",
      "0    88\n",
      "1    92\n",
      "2    75\n",
      "3    95\n",
      "Name: Scores, dtype: int64\n",
      "\n",
      "Summary Statistics:\n",
      "count     4.000000\n",
      "mean     87.500000\n",
      "std       8.812869\n",
      "min      75.000000\n",
      "25%      84.750000\n",
      "50%      90.000000\n",
      "75%      92.750000\n",
      "max      95.000000\n",
      "Name: Scores, dtype: float64\n",
      "\n",
      "Ages Series:\n",
      "0    21\n",
      "1    25\n",
      "2    30\n",
      "3    22\n",
      "Name: Ages, dtype: int64\n"
     ]
    }
   ],
   "source": [
    "# 🧠 Day 1 - Python (Pandas)\n",
    "# Topic: Create and describe a Series\n",
    "\n",
    "import pandas as pd\n",
    "\n",
    "# Create a simple Series\n",
    "scores = pd.Series([88, 92, 75, 95], name=\"Scores\")\n",
    "print(\"UESL Scores:\")\n",
    "print(scores)\n",
    "\n",
    "# Add summary info\n",
    "print(\"\\nSummary Statistics:\")\n",
    "print(scores.describe())\n",
    "\n",
    "# Practice Task\n",
    "ages = pd.Series([21, 25, 30, 22], name=\"Ages\")\n",
    "print(\"\\nAges Series:\")\n",
    "print(ages)\n"
   ]
  }
 ],
 "metadata": {
  "kernelspec": {
   "display_name": "Python 3",
   "language": "python",
   "name": "python3"
  },
  "language_info": {
   "codemirror_mode": {
    "name": "ipython",
    "version": 3
   },
   "file_extension": ".py",
   "mimetype": "text/x-python",
   "name": "python",
   "nbconvert_exporter": "python",
   "pygments_lexer": "ipython3",
   "version": "3.12.5"
  }
 },
 "nbformat": 4,
 "nbformat_minor": 5
}
