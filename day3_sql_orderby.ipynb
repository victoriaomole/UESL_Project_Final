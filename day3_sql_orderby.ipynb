{
 "cells": [
  {
   "cell_type": "code",
   "execution_count": 1,
   "id": "42f708f0",
   "metadata": {},
   "outputs": [
    {
     "name": "stdout",
     "output_type": "stream",
     "text": [
      "🎓 Students Sorted by Score Descending:\n",
      "   id      name  score\n",
      "0   5       Ada     99\n",
      "1   1  Victoria     95\n",
      "2   2     James     88\n",
      "3   4      John     82\n",
      "4   3     Grace     76\n"
     ]
    }
   ],
   "source": [
    "# 🧠 Day 3 – SQL ORDER BY\n",
    "import sqlite3\n",
    "import pandas as pd\n",
    "\n",
    "conn = sqlite3.connect(\"day3_students.db\")\n",
    "cursor = conn.cursor()\n",
    "\n",
    "cursor.execute(\"\"\"\n",
    "CREATE TABLE IF NOT EXISTS students (\n",
    "  id INTEGER PRIMARY KEY,\n",
    "  name TEXT,\n",
    "  score INTEGER\n",
    ");\n",
    "\"\"\")\n",
    "\n",
    "cursor.execute(\"DELETE FROM students;\")\n",
    "cursor.executemany(\"INSERT INTO students (id, name, score) VALUES (?, ?, ?)\", [\n",
    "  (1, \"Victoria\", 95),\n",
    "  (2, \"James\", 88),\n",
    "  (3, \"Grace\", 76),\n",
    "  (4, \"John\", 82),\n",
    "  (5, \"Ada\", 99)\n",
    "])\n",
    "conn.commit()\n",
    "\n",
    "print(\"🎓 Students Sorted by Score Descending:\")\n",
    "df = pd.read_sql_query(\"SELECT * FROM students ORDER BY score DESC;\", conn)\n",
    "print(df)\n",
    "\n",
    "conn.close()\n"
   ]
  }
 ],
 "metadata": {
  "kernelspec": {
   "display_name": "Python 3",
   "language": "python",
   "name": "python3"
  },
  "language_info": {
   "codemirror_mode": {
    "name": "ipython",
    "version": 3
   },
   "file_extension": ".py",
   "mimetype": "text/x-python",
   "name": "python",
   "nbconvert_exporter": "python",
   "pygments_lexer": "ipython3",
   "version": "3.12.5"
  }
 },
 "nbformat": 4,
 "nbformat_minor": 5
}
