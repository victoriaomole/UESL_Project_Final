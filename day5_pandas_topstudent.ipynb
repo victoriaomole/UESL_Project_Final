{
 "cells": [
  {
   "cell_type": "code",
   "execution_count": 1,
   "id": "50646e78",
   "metadata": {},
   "outputs": [
    {
     "name": "stdout",
     "output_type": "stream",
     "text": [
      "🎓 UESL Scores:\n",
      "       Name  Score Department\n",
      "0  Victoria     95       Data\n",
      "1     James     88         IT\n",
      "2     Grace     76         HR\n",
      "3      John     82    Finance\n",
      "4       Ada     99         AI\n",
      "\n",
      "🏆 Top Student:\n",
      "  Name  Score Department\n",
      "4  Ada     99         AI\n",
      "\n",
      "📁 Saved as uesl_scores.csv\n"
     ]
    }
   ],
   "source": [
    "# 🧠 Day 5 – Mini Project (Pandas)\n",
    "import pandas as pd\n",
    "\n",
    "data = {\n",
    "  \"Name\": [\"Victoria\", \"James\", \"Grace\", \"John\", \"Ada\"],\n",
    "  \"Score\": [95, 88, 76, 82, 99],\n",
    "  \"Department\": [\"Data\", \"IT\", \"HR\", \"Finance\", \"AI\"]\n",
    "}\n",
    "\n",
    "df = pd.DataFrame(data)\n",
    "print(\"🎓 UESL Scores:\")\n",
    "print(df)\n",
    "\n",
    "# Sort and find top student\n",
    "top = df.sort_values(by=\"Score\", ascending=False).head(1)\n",
    "print(\"\\n🏆 Top Student:\")\n",
    "print(top)\n",
    "\n",
    "# Extra: save to CSV\n",
    "df.to_csv(\"uesl_scores.csv\", index=False)\n",
    "print(\"\\n📁 Saved as uesl_scores.csv\")\n"
   ]
  }
 ],
 "metadata": {
  "kernelspec": {
   "display_name": "Python 3",
   "language": "python",
   "name": "python3"
  },
  "language_info": {
   "codemirror_mode": {
    "name": "ipython",
    "version": 3
   },
   "file_extension": ".py",
   "mimetype": "text/x-python",
   "name": "python",
   "nbconvert_exporter": "python",
   "pygments_lexer": "ipython3",
   "version": "3.12.5"
  }
 },
 "nbformat": 4,
 "nbformat_minor": 5
}
