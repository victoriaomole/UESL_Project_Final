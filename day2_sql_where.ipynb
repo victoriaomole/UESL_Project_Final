{
 "cells": [
  {
   "cell_type": "code",
   "execution_count": 1,
   "id": "68e554b0",
   "metadata": {},
   "outputs": [
    {
     "name": "stdout",
     "output_type": "stream",
     "text": [
      "🎓 Students with score > 80:\n",
      "   id      name  score     dept\n",
      "0   1  Victoria     95     Data\n",
      "1   2     James     88       IT\n",
      "2   4      John     82  Finance\n"
     ]
    }
   ],
   "source": [
    "# 🧠 Day 2 – SQL WHERE Clause\n",
    "import sqlite3\n",
    "import pandas as pd\n",
    "\n",
    "conn = sqlite3.connect(\"day2_students.db\")\n",
    "cursor = conn.cursor()\n",
    "\n",
    "cursor.execute(\"\"\"\n",
    "CREATE TABLE IF NOT EXISTS students (\n",
    "    id INTEGER PRIMARY KEY,\n",
    "    name TEXT,\n",
    "    score INTEGER,\n",
    "    dept TEXT\n",
    ");\n",
    "\"\"\")\n",
    "\n",
    "cursor.execute(\"DELETE FROM students;\")\n",
    "cursor.executemany(\"INSERT INTO students (id, name, score, dept) VALUES (?, ?, ?, ?)\", [\n",
    "    (1, \"Victoria\", 95, \"Data\"),\n",
    "    (2, \"James\", 88, \"IT\"),\n",
    "    (3, \"Grace\", 76, \"HR\"),\n",
    "    (4, \"John\", 82, \"Finance\")\n",
    "])\n",
    "conn.commit()\n",
    "\n",
    "# Filter with WHERE\n",
    "print(\"🎓 Students with score > 80:\")\n",
    "df = pd.read_sql_query(\"SELECT * FROM students WHERE score > 80;\", conn)\n",
    "print(df)\n",
    "\n",
    "conn.close()\n"
   ]
  }
 ],
 "metadata": {
  "kernelspec": {
   "display_name": "Python 3",
   "language": "python",
   "name": "python3"
  },
  "language_info": {
   "codemirror_mode": {
    "name": "ipython",
    "version": 3
   },
   "file_extension": ".py",
   "mimetype": "text/x-python",
   "name": "python",
   "nbconvert_exporter": "python",
   "pygments_lexer": "ipython3",
   "version": "3.12.5"
  }
 },
 "nbformat": 4,
 "nbformat_minor": 5
}
