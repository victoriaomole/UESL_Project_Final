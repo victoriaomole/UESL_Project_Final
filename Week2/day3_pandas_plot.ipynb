{
 "cells": [
  {
   "cell_type": "code",
   "execution_count": null,
   "id": "f2b55834",
   "metadata": {},
   "outputs": [],
   "source": [
    "# 🟩 Day 3 – Plotting with Pandas\n",
    "import pandas as pd\n",
    "import matplotlib.pyplot as plt\n",
    "\n",
    "# Create data\n",
    "data = {\n",
    "    \"Name\": [\"Victoria\", \"Daniel\", \"James\", \"Mariam\", \"John\"],\n",
    "    \"Score\": [92, 88, 79, 95, 84]\n",
    "}\n",
    "df = pd.DataFrame(data)\n",
    "\n",
    "print(\"🎓 UESL Scores:\")\n",
    "print(df)\n",
    "\n",
    "# Plot bar chart\n",
    "df.plot(x=\"Name\", y=\"Score\", kind=\"bar\", title=\"UESL Student Scores\", legend=False)\n",
    "plt.ylabel(\"Score\")\n",
    "plt.show()\n",
    "\n"
   ]
  }
 ],
 "metadata": {
  "kernelspec": {
   "display_name": "Python 3",
   "language": "python",
   "name": "python3"
  },
  "language_info": {
   "name": "python",
   "version": "3.12.5"
  }
 },
 "nbformat": 4,
 "nbformat_minor": 5
}
