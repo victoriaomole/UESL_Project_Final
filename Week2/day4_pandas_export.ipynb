{
 "cells": [
  {
   "cell_type": "code",
   "execution_count": 1,
   "id": "eacf109b",
   "metadata": {},
   "outputs": [
    {
     "name": "stdout",
     "output_type": "stream",
     "text": [
      "🎓 UESL Data:\n",
      "       Name  Score\n",
      "0  Victoria     92\n",
      "1    Daniel     88\n",
      "2    Mariam     95\n",
      "3     James     81\n",
      "\n",
      "✅ File exported successfully as 'uesl_students.csv'\n"
     ]
    }
   ],
   "source": [
    "# 🟩 Day 4 – Export DataFrame to CSV\n",
    "import pandas as pd\n",
    "\n",
    "# Create DataFrame\n",
    "students = pd.DataFrame({\n",
    "    \"Name\": [\"Victoria\", \"Daniel\", \"Mariam\", \"James\"],\n",
    "    \"Score\": [92, 88, 95, 81]\n",
    "})\n",
    "\n",
    "print(\"🎓 UESL Data:\")\n",
    "print(students)\n",
    "\n",
    "# Export to CSV\n",
    "students.to_csv(\"uesl_students.csv\", index=False)\n",
    "print(\"\\n✅ File exported successfully as 'uesl_students.csv'\")\n",
    "\n"
   ]
  }
 ],
 "metadata": {
  "kernelspec": {
   "display_name": "Python 3",
   "language": "python",
   "name": "python3"
  },
  "language_info": {
   "codemirror_mode": {
    "name": "ipython",
    "version": 3
   },
   "file_extension": ".py",
   "mimetype": "text/x-python",
   "name": "python",
   "nbconvert_exporter": "python",
   "pygments_lexer": "ipython3",
   "version": "3.12.5"
  }
 },
 "nbformat": 4,
 "nbformat_minor": 5
}
