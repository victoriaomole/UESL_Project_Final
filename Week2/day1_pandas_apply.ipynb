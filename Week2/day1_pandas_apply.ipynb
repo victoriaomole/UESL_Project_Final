{
 "cells": [
  {
   "cell_type": "code",
   "execution_count": 1,
   "id": "55c96ec4",
   "metadata": {},
   "outputs": [
    {
     "name": "stdout",
     "output_type": "stream",
     "text": [
      "🎓 UES Students Data:\n",
      "       Name  Score\n",
      "0  Victoria     88\n",
      "1    Daniel     95\n",
      "2    Mariam     72\n",
      "3     James     81\n",
      "\n",
      "📊 Updated DataFrame with Grades:\n",
      "       Name  Score Grade\n",
      "0  Victoria     88     B\n",
      "1    Daniel     95     A\n",
      "2    Mariam     72     C\n",
      "3     James     81     B\n"
     ]
    }
   ],
   "source": [
    "# 🟩 Day 1 — Python (Pandas)\n",
    "# Topic: Apply functions to DataFrame columns\n",
    "\n",
    "import pandas as pd\n",
    "\n",
    "# Create sample DataFrame\n",
    "students = pd.DataFrame({\n",
    "    \"Name\": [\"Victoria\", \"Daniel\", \"Mariam\", \"James\"],\n",
    "    \"Score\": [88, 95, 72, 81]\n",
    "})\n",
    "\n",
    "print(\"🎓 UES Students Data:\")\n",
    "print(students)\n",
    "\n",
    "# Function to grade based on score\n",
    "def grade(score):\n",
    "    if score >= 90:\n",
    "        return \"A\"\n",
    "    elif score >= 80:\n",
    "        return \"B\"\n",
    "    elif score >= 70:\n",
    "        return \"C\"\n",
    "    else:\n",
    "        return \"D\"\n",
    "\n",
    "# Apply function to new column\n",
    "students[\"Grade\"] = students[\"Score\"].apply(grade)\n",
    "\n",
    "print(\"\\n📊 Updated DataFrame with Grades:\")\n",
    "print(students)\n"
   ]
  }
 ],
 "metadata": {
  "kernelspec": {
   "display_name": "Python 3",
   "language": "python",
   "name": "python3"
  },
  "language_info": {
   "codemirror_mode": {
    "name": "ipython",
    "version": 3
   },
   "file_extension": ".py",
   "mimetype": "text/x-python",
   "name": "python",
   "nbconvert_exporter": "python",
   "pygments_lexer": "ipython3",
   "version": "3.12.5"
  }
 },
 "nbformat": 4,
 "nbformat_minor": 5
}
