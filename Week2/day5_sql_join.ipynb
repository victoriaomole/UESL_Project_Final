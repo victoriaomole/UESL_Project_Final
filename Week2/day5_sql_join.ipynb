{
 "cells": [
  {
   "cell_type": "code",
   "execution_count": 1,
   "id": "1927fe9a",
   "metadata": {},
   "outputs": [
    {
     "name": "stdout",
     "output_type": "stream",
     "text": [
      "🎓 Students with Department Info:\n",
      "       name department_name\n",
      "0  Victoria    Data Science\n",
      "1    Daniel    Data Science\n",
      "2    Mariam         Finance\n",
      "3     James              IT\n"
     ]
    }
   ],
   "source": [
    "# 🟦 Day 5 – SQL JOIN\n",
    "import sqlite3\n",
    "import pandas as pd\n",
    "\n",
    "conn = sqlite3.connect(\"day5_week2_students.db\")\n",
    "cursor = conn.cursor()\n",
    "\n",
    "# Create Students table\n",
    "cursor.execute(\"\"\"\n",
    "CREATE TABLE IF NOT EXISTS students (\n",
    "    id INTEGER PRIMARY KEY AUTOINCREMENT,\n",
    "    name TEXT,\n",
    "    department_id INTEGER\n",
    ");\n",
    "\"\"\")\n",
    "\n",
    "# Create Departments table\n",
    "cursor.execute(\"\"\"\n",
    "CREATE TABLE IF NOT EXISTS departments (\n",
    "    id INTEGER PRIMARY KEY AUTOINCREMENT,\n",
    "    department_name TEXT\n",
    ");\n",
    "\"\"\")\n",
    "\n",
    "# Insert sample data\n",
    "cursor.executemany(\"INSERT INTO students (name, department_id) VALUES (?, ?)\", [\n",
    "    (\"Victoria\", 1),\n",
    "    (\"Daniel\", 1),\n",
    "    (\"Mariam\", 2),\n",
    "    (\"James\", 3)\n",
    "])\n",
    "\n",
    "cursor.executemany(\"INSERT INTO departments (id, department_name) VALUES (?, ?)\", [\n",
    "    (1, \"Data Science\"),\n",
    "    (2, \"Finance\"),\n",
    "    (3, \"IT\")\n",
    "])\n",
    "conn.commit()\n",
    "\n",
    "# INNER JOIN to combine tables\n",
    "query = \"\"\"\n",
    "SELECT students.name, departments.department_name\n",
    "FROM students\n",
    "INNER JOIN departments\n",
    "ON students.department_id = departments.id;\n",
    "\"\"\"\n",
    "\n",
    "df = pd.read_sql_query(query, conn)\n",
    "print(\"🎓 Students with Department Info:\")\n",
    "print(df)\n",
    "\n",
    "conn.close()\n",
    "\n"
   ]
  }
 ],
 "metadata": {
  "kernelspec": {
   "display_name": "Python 3",
   "language": "python",
   "name": "python3"
  },
  "language_info": {
   "codemirror_mode": {
    "name": "ipython",
    "version": 3
   },
   "file_extension": ".py",
   "mimetype": "text/x-python",
   "name": "python",
   "nbconvert_exporter": "python",
   "pygments_lexer": "ipython3",
   "version": "3.12.5"
  }
 },
 "nbformat": 4,
 "nbformat_minor": 5
}
