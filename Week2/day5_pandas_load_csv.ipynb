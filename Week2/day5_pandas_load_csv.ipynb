{
 "cells": [
  {
   "cell_type": "code",
   "execution_count": 1,
   "id": "287d47c8",
   "metadata": {},
   "outputs": [
    {
     "name": "stdout",
     "output_type": "stream",
     "text": [
      "🎓 Loaded CSV Data:\n",
      "       Name  Score\n",
      "0  Victoria     92\n",
      "1    Daniel     88\n",
      "2    Mariam     95\n",
      "3     James     81\n",
      "\n",
      "🏅 Students with High Scores (>85):\n",
      "       Name  Score\n",
      "0  Victoria     92\n",
      "1    Daniel     88\n",
      "2    Mariam     95\n"
     ]
    }
   ],
   "source": [
    "# 🟩 Day 5 – Load CSV into Pandas\n",
    "import pandas as pd\n",
    "\n",
    "# Load the CSV created earlier (from Day 4)\n",
    "df = pd.read_csv(\"uesl_students.csv\")\n",
    "\n",
    "print(\"🎓 Loaded CSV Data:\")\n",
    "print(df)\n",
    "\n",
    "# Perform a simple filter\n",
    "high_scores = df[df[\"Score\"] > 85]\n",
    "print(\"\\n🏅 Students with High Scores (>85):\")\n",
    "print(high_scores)\n"
   ]
  }
 ],
 "metadata": {
  "kernelspec": {
   "display_name": "Python 3",
   "language": "python",
   "name": "python3"
  },
  "language_info": {
   "codemirror_mode": {
    "name": "ipython",
    "version": 3
   },
   "file_extension": ".py",
   "mimetype": "text/x-python",
   "name": "python",
   "nbconvert_exporter": "python",
   "pygments_lexer": "ipython3",
   "version": "3.12.5"
  }
 },
 "nbformat": 4,
 "nbformat_minor": 5
}
