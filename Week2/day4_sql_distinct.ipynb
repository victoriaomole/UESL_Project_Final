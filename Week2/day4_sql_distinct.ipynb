{
 "cells": [
  {
   "cell_type": "code",
   "execution_count": 1,
   "id": "04b4bd49",
   "metadata": {},
   "outputs": [
    {
     "name": "stdout",
     "output_type": "stream",
     "text": [
      "🎓 All Students (with duplicates):\n",
      "   id      name department\n",
      "0   1  Victoria       Data\n",
      "1   2    Daniel       Data\n",
      "2   3    Mariam    Finance\n",
      "3   4     James    Finance\n",
      "4   5  Victoria       Data\n",
      "\n",
      "✅ Unique Departments using DISTINCT:\n",
      "       name department\n",
      "0  Victoria       Data\n",
      "1    Daniel       Data\n",
      "2    Mariam    Finance\n",
      "3     James    Finance\n"
     ]
    }
   ],
   "source": [
    "# 🟦 Day 4 – SQL DISTINCT\n",
    "import sqlite3\n",
    "import pandas as pd\n",
    "\n",
    "conn = sqlite3.connect(\"day4_week2_students.db\")\n",
    "cursor = conn.cursor()\n",
    "\n",
    "cursor.execute(\"\"\"\n",
    "CREATE TABLE IF NOT EXISTS students (\n",
    "    id INTEGER PRIMARY KEY AUTOINCREMENT,\n",
    "    name TEXT,\n",
    "    department TEXT\n",
    ");\n",
    "\"\"\")\n",
    "\n",
    "# Insert records with duplicates\n",
    "cursor.executemany(\"INSERT INTO students (name, department) VALUES (?, ?)\", [\n",
    "    (\"Victoria\", \"Data\"),\n",
    "    (\"Daniel\", \"Data\"),\n",
    "    (\"Mariam\", \"Finance\"),\n",
    "    (\"James\", \"Finance\"),\n",
    "    (\"Victoria\", \"Data\")  # Duplicate entry\n",
    "])\n",
    "conn.commit()\n",
    "\n",
    "print(\"🎓 All Students (with duplicates):\")\n",
    "print(pd.read_sql_query(\"SELECT * FROM students;\", conn))\n",
    "\n",
    "# Select only unique combinations\n",
    "print(\"\\n✅ Unique Departments using DISTINCT:\")\n",
    "print(pd.read_sql_query(\"SELECT DISTINCT name, department FROM students;\", conn))\n",
    "\n",
    "conn.close()\n"
   ]
  }
 ],
 "metadata": {
  "kernelspec": {
   "display_name": "Python 3",
   "language": "python",
   "name": "python3"
  },
  "language_info": {
   "codemirror_mode": {
    "name": "ipython",
    "version": 3
   },
   "file_extension": ".py",
   "mimetype": "text/x-python",
   "name": "python",
   "nbconvert_exporter": "python",
   "pygments_lexer": "ipython3",
   "version": "3.12.5"
  }
 },
 "nbformat": 4,
 "nbformat_minor": 5
}
