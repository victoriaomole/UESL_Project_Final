{
 "cells": [
  {
   "cell_type": "code",
   "execution_count": null,
   "id": "f3ec573f",
   "metadata": {},
   "outputs": [],
   "source": []
  },
  {
   "cell_type": "code",
   "execution_count": 1,
   "id": "fbb1f3e4",
   "metadata": {},
   "outputs": [
    {
     "name": "stdout",
     "output_type": "stream",
     "text": [
      "✅ Data Inserted Successfully!\n",
      "\n",
      "🎓 Students Table:\n",
      "   id      name  score\n",
      "0   1  Victoria     88\n",
      "1   2    Daniel     95\n",
      "2   3    Mariam     72\n",
      "3   4     James     81\n"
     ]
    }
   ],
   "source": [
    "# 🟦 Day 1 – SQL INSERT INTO with SQLite\n",
    "import sqlite3\n",
    "import pandas as pd\n",
    "\n",
    "# Step 1 – Connect to database (or create it)\n",
    "conn = sqlite3.connect(\"day1_week2_students.db\")\n",
    "cursor = conn.cursor()\n",
    "\n",
    "# Step 2 – Create table if it doesn't exist\n",
    "cursor.execute(\"\"\"\n",
    "CREATE TABLE IF NOT EXISTS students (\n",
    "    id INTEGER PRIMARY KEY AUTOINCREMENT,\n",
    "    name TEXT,\n",
    "    score INTEGER\n",
    ");\n",
    "\"\"\")\n",
    "\n",
    "# Step 3 – Insert records into table\n",
    "cursor.executemany(\"INSERT INTO students (name, score) VALUES (?, ?)\", [\n",
    "    (\"Victoria\", 88),\n",
    "    (\"Daniel\", 95),\n",
    "    (\"Mariam\", 72),\n",
    "    (\"James\", 81)\n",
    "])\n",
    "conn.commit()\n",
    "\n",
    "print(\"✅ Data Inserted Successfully!\\n\")\n",
    "\n",
    "# Step 4 – Verify inserted records\n",
    "df = pd.read_sql_query(\"SELECT * FROM students;\", conn)\n",
    "print(\"🎓 Students Table:\")\n",
    "print(df)\n",
    "\n",
    "conn.close()\n"
   ]
  }
 ],
 "metadata": {
  "kernelspec": {
   "display_name": "Python 3",
   "language": "python",
   "name": "python3"
  },
  "language_info": {
   "codemirror_mode": {
    "name": "ipython",
    "version": 3
   },
   "file_extension": ".py",
   "mimetype": "text/x-python",
   "name": "python",
   "nbconvert_exporter": "python",
   "pygments_lexer": "ipython3",
   "version": "3.12.5"
  }
 },
 "nbformat": 4,
 "nbformat_minor": 5
}
