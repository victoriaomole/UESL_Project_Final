{
 "cells": [
  {
   "cell_type": "code",
   "execution_count": 1,
   "id": "2d1798ec",
   "metadata": {},
   "outputs": [
    {
     "name": "stdout",
     "output_type": "stream",
     "text": [
      "🎓 Original Table:\n",
      "   id      name  score\n",
      "0   1  Victoria     88\n",
      "1   2    Daniel     95\n",
      "2   3    Mariam     72\n",
      "3   4     James     81\n",
      "\n",
      "✅ Updated Table (Victoria’s new score):\n",
      "   id      name  score\n",
      "0   1  Victoria     92\n",
      "1   2    Daniel     95\n",
      "2   3    Mariam     72\n",
      "3   4     James     81\n"
     ]
    }
   ],
   "source": [
    "# 🟦 Day 2 – SQL UPDATE\n",
    "import sqlite3\n",
    "import pandas as pd\n",
    "\n",
    "conn = sqlite3.connect(\"day2_week2_students.db\")\n",
    "cursor = conn.cursor()\n",
    "\n",
    "cursor.execute(\"\"\"\n",
    "CREATE TABLE IF NOT EXISTS students (\n",
    "    id INTEGER PRIMARY KEY AUTOINCREMENT,\n",
    "    name TEXT,\n",
    "    score INTEGER\n",
    ");\n",
    "\"\"\")\n",
    "\n",
    "# Insert sample data\n",
    "cursor.executemany(\"INSERT INTO students (name, score) VALUES (?, ?)\", [\n",
    "    (\"Victoria\", 88),\n",
    "    (\"Daniel\", 95),\n",
    "    (\"Mariam\", 72),\n",
    "    (\"James\", 81)\n",
    "])\n",
    "conn.commit()\n",
    "\n",
    "print(\"🎓 Original Table:\")\n",
    "print(pd.read_sql_query(\"SELECT * FROM students;\", conn))\n",
    "\n",
    "# Update Victoria’s score\n",
    "cursor.execute(\"UPDATE students SET score = 92 WHERE name = 'Victoria';\")\n",
    "conn.commit()\n",
    "\n",
    "print(\"\\n✅ Updated Table (Victoria’s new score):\")\n",
    "print(pd.read_sql_query(\"SELECT * FROM students;\", conn))\n",
    "\n",
    "conn.close()\n"
   ]
  }
 ],
 "metadata": {
  "kernelspec": {
   "display_name": "Python 3",
   "language": "python",
   "name": "python3"
  },
  "language_info": {
   "codemirror_mode": {
    "name": "ipython",
    "version": 3
   },
   "file_extension": ".py",
   "mimetype": "text/x-python",
   "name": "python",
   "nbconvert_exporter": "python",
   "pygments_lexer": "ipython3",
   "version": "3.12.5"
  }
 },
 "nbformat": 4,
 "nbformat_minor": 5
}
