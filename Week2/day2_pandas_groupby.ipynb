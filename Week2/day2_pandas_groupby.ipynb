{
 "cells": [
  {
   "cell_type": "code",
   "execution_count": 1,
   "id": "2776063f",
   "metadata": {},
   "outputs": [
    {
     "name": "stdout",
     "output_type": "stream",
     "text": [
      "🎓 UESL Student Scores:\n",
      "  Department      Name  Score\n",
      "0       Data  Victoria     95\n",
      "1       Data    Daniel     90\n",
      "2         IT     James     88\n",
      "3         HR     Grace     76\n",
      "4         HR      John     82\n",
      "5    Finance      Mary     89\n",
      "\n",
      "📊 Average Score by Department:\n",
      "  Department  Score\n",
      "0       Data   92.5\n",
      "1    Finance   89.0\n",
      "2         HR   79.0\n",
      "3         IT   88.0\n"
     ]
    }
   ],
   "source": [
    "# 🟩 Day 2 – Pandas GroupBy\n",
    "import pandas as pd\n",
    "\n",
    "# Sample data\n",
    "data = {\n",
    "    \"Department\": [\"Data\", \"Data\", \"IT\", \"HR\", \"HR\", \"Finance\"],\n",
    "    \"Name\": [\"Victoria\", \"Daniel\", \"James\", \"Grace\", \"John\", \"Mary\"],\n",
    "    \"Score\": [95, 90, 88, 76, 82, 89]\n",
    "}\n",
    "\n",
    "df = pd.DataFrame(data)\n",
    "print(\"🎓 UESL Student Scores:\")\n",
    "print(df)\n",
    "\n",
    "# Group by Department and calculate average score\n",
    "grouped = df.groupby(\"Department\")[\"Score\"].mean().reset_index()\n",
    "\n",
    "print(\"\\n📊 Average Score by Department:\")\n",
    "print(grouped)\n",
    "\n"
   ]
  }
 ],
 "metadata": {
  "kernelspec": {
   "display_name": "Python 3",
   "language": "python",
   "name": "python3"
  },
  "language_info": {
   "codemirror_mode": {
    "name": "ipython",
    "version": 3
   },
   "file_extension": ".py",
   "mimetype": "text/x-python",
   "name": "python",
   "nbconvert_exporter": "python",
   "pygments_lexer": "ipython3",
   "version": "3.12.5"
  }
 },
 "nbformat": 4,
 "nbformat_minor": 5
}
