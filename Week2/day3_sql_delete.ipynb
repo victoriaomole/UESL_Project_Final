{
 "cells": [
  {
   "cell_type": "code",
   "execution_count": 1,
   "id": "db1ed5fd",
   "metadata": {},
   "outputs": [
    {
     "name": "stdout",
     "output_type": "stream",
     "text": [
      "🎓 Before Deletion:\n",
      "   id      name  score\n",
      "0   1  Victoria     92\n",
      "1   2    Daniel     88\n",
      "2   3     James     79\n",
      "3   4    Mariam     95\n",
      "4   5      John     84\n",
      "\n",
      "❌ After Deletion (Removed score < 85):\n",
      "   id      name  score\n",
      "0   1  Victoria     92\n",
      "1   2    Daniel     88\n",
      "2   4    Mariam     95\n"
     ]
    }
   ],
   "source": [
    "# 🟦 Day 3 – SQL DELETE\n",
    "import sqlite3\n",
    "import pandas as pd\n",
    "\n",
    "conn = sqlite3.connect(\"day3_week2_students.db\")\n",
    "cursor = conn.cursor()\n",
    "\n",
    "cursor.execute(\"\"\"\n",
    "CREATE TABLE IF NOT EXISTS students (\n",
    "    id INTEGER PRIMARY KEY AUTOINCREMENT,\n",
    "    name TEXT,\n",
    "    score INTEGER\n",
    ");\n",
    "\"\"\")\n",
    "\n",
    "# Insert sample data\n",
    "cursor.executemany(\"INSERT INTO students (name, score) VALUES (?, ?)\", [\n",
    "    (\"Victoria\", 92),\n",
    "    (\"Daniel\", 88),\n",
    "    (\"James\", 79),\n",
    "    (\"Mariam\", 95),\n",
    "    (\"John\", 84)\n",
    "])\n",
    "conn.commit()\n",
    "\n",
    "print(\"🎓 Before Deletion:\")\n",
    "print(pd.read_sql_query(\"SELECT * FROM students;\", conn))\n",
    "\n",
    "# Delete student with low score\n",
    "cursor.execute(\"DELETE FROM students WHERE score < 85;\")\n",
    "conn.commit()\n",
    "\n",
    "print(\"\\n❌ After Deletion (Removed score < 85):\")\n",
    "print(pd.read_sql_query(\"SELECT * FROM students;\", conn))\n",
    "\n",
    "conn.close()\n"
   ]
  }
 ],
 "metadata": {
  "kernelspec": {
   "display_name": "Python 3",
   "language": "python",
   "name": "python3"
  },
  "language_info": {
   "codemirror_mode": {
    "name": "ipython",
    "version": 3
   },
   "file_extension": ".py",
   "mimetype": "text/x-python",
   "name": "python",
   "nbconvert_exporter": "python",
   "pygments_lexer": "ipython3",
   "version": "3.12.5"
  }
 },
 "nbformat": 4,
 "nbformat_minor": 5
}
