{
 "cells": [
  {
   "cell_type": "code",
   "execution_count": 1,
   "id": "ff56fbc2",
   "metadata": {},
   "outputs": [
    {
     "name": "stdout",
     "output_type": "stream",
     "text": [
      "🎓 UESL Student DataFrame:\n",
      "       Name  Score  Age\n",
      "0  Victoria     95   25\n",
      "1     James     88   23\n",
      "2     Grace     76   28\n",
      "3      John     82   26\n",
      "4       Ada     99   22\n",
      "\n",
      "📊 Data Summary (.describe()):\n",
      "           Score        Age\n",
      "count   5.000000   5.000000\n",
      "mean   88.000000  24.800000\n",
      "std     9.354143   2.387467\n",
      "min    76.000000  22.000000\n",
      "25%    82.000000  23.000000\n",
      "50%    88.000000  25.000000\n",
      "75%    95.000000  26.000000\n",
      "max    99.000000  28.000000\n",
      "\n",
      "Average Score: 88.0\n",
      "Median Score: 88.0\n"
     ]
    }
   ],
   "source": [
    "# 🧠 Day 4 – Pandas describe()\n",
    "\n",
    "import pandas as pd\n",
    "\n",
    "# Create DataFrame\n",
    "data = {\n",
    "    \"Name\": [\"Victoria\", \"James\", \"Grace\", \"John\", \"Ada\"],\n",
    "    \"Score\": [95, 88, 76, 82, 99],\n",
    "    \"Age\": [25, 23, 28, 26, 22]\n",
    "}\n",
    "df = pd.DataFrame(data)\n",
    "\n",
    "print(\"🎓 UESL Student DataFrame:\")\n",
    "print(df)\n",
    "\n",
    "# Summary Statistics\n",
    "print(\"\\n📊 Data Summary (.describe()):\")\n",
    "print(df.describe())\n",
    "\n",
    "# Mean and Median\n",
    "print(\"\\nAverage Score:\", df[\"Score\"].mean())\n",
    "print(\"Median Score:\", df[\"Score\"].median())\n",
    "\n"
   ]
  }
 ],
 "metadata": {
  "kernelspec": {
   "display_name": "Python 3",
   "language": "python",
   "name": "python3"
  },
  "language_info": {
   "codemirror_mode": {
    "name": "ipython",
    "version": 3
   },
   "file_extension": ".py",
   "mimetype": "text/x-python",
   "name": "python",
   "nbconvert_exporter": "python",
   "pygments_lexer": "ipython3",
   "version": "3.12.5"
  }
 },
 "nbformat": 4,
 "nbformat_minor": 5
}
